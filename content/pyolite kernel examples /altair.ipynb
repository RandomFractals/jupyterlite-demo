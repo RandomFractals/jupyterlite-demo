{
  "cells": [
    {
      "cell_type": "markdown",
      "metadata": {},
      "source": "# Altair in `JupyterLite`\n\n**Altair** is a declarative statistical visualization library for Python.\n\nMost of the examples below are from: https://altair-viz.github.io/gallery"
    },
    {
      "cell_type": "markdown",
      "metadata": {},
      "source": "## Import the dependencies:"
    },
    {
      "cell_type": "code",
      "execution_count": null,
      "metadata": {
        "trusted": true
      },
      "outputs": [],
      "source": "# code snippet below from @lrowe: https://github.com/jtpio/jupyterlite/issues/110#issuecomment-850916083\nimport micropip\n# Work around https://github.com/pyodide/pyodide/issues/1614 which is now fixed in pyodide\nawait micropip.install('Jinja2')\nmicropip.PACKAGE_MANAGER.builtin_packages['jinja2'] = micropip.PACKAGE_MANAGER.builtin_packages['Jinja2']\n# Last version of jsonschema before it added the pyrsistent dependency (native code, no wheel)\nawait micropip.install(\"https://files.pythonhosted.org/packages/77/de/47e35a97b2b05c2fadbec67d44cfcdcd09b8086951b331d82de90d2912da/jsonschema-2.6.0-py2.py3-none-any.whl\")\nawait micropip.install(\"altair\")"
    },
    {
      "cell_type": "markdown",
      "metadata": {},
      "source": "## Simple Bar Chart"
    },
    {
      "cell_type": "code",
      "execution_count": null,
      "metadata": {
        "trusted": true
      },
      "outputs": [],
      "source": "import altair as alt\nimport pandas as pd\n\nsource = pd.DataFrame({\n    'a': ['A', 'B', 'C', 'D', 'E', 'F', 'G', 'H', 'I'],\n    'b': [28, 55, 43, 91, 81, 53, 19, 87, 52]\n})\n\nalt.Chart(source).mark_bar().encode(\n    x='a',\n    y='b'\n)"
    },
    {
      "cell_type": "markdown",
      "metadata": {},
      "source": "## Simple Heatmap"
    },
    {
      "cell_type": "code",
      "execution_count": null,
      "metadata": {
        "trusted": true
      },
      "outputs": [],
      "source": "import altair as alt\nimport numpy as np\nimport pandas as pd\n\n# Compute x^2 + y^2 across a 2D grid\nx, y = np.meshgrid(range(-5, 5), range(-5, 5))\nz = x ** 2 + y ** 2\n\n# Convert this grid to columnar data expected by Altair\nsource = pd.DataFrame({'x': x.ravel(),\n                     'y': y.ravel(),\n                     'z': z.ravel()})\n\nalt.Chart(source).mark_rect().encode(\n    x='x:O',\n    y='y:O',\n    color='z:Q'\n)\n"
    },
    {
      "cell_type": "markdown",
      "metadata": {},
      "source": "## Install the Vega Dataset"
    },
    {
      "cell_type": "code",
      "execution_count": null,
      "metadata": {
        "trusted": true
      },
      "outputs": [],
      "source": "await micropip.install('vega_datasets')"
    },
    {
      "cell_type": "markdown",
      "metadata": {},
      "source": "## Interactive Average"
    },
    {
      "cell_type": "code",
      "execution_count": null,
      "metadata": {
        "trusted": true
      },
      "outputs": [],
      "source": "import altair as alt\nfrom vega_datasets import data\n\nsource = data.seattle_weather()\nbrush = alt.selection(type='interval', encodings=['x'])\n\nbars = alt.Chart().mark_bar().encode(\n    x='month(date):O',\n    y='mean(precipitation):Q',\n    opacity=alt.condition(brush, alt.OpacityValue(1), alt.OpacityValue(0.7)),\n).add_selection(\n    brush\n)\n\nline = alt.Chart().mark_rule(color='firebrick').encode(\n    y='mean(precipitation):Q',\n    size=alt.SizeValue(3)\n).transform_filter(\n    brush\n)\n\nalt.layer(bars, line, data=source)"
    },
    {
      "cell_type": "markdown",
      "metadata": {},
      "source": "## Locations of US Airports"
    },
    {
      "cell_type": "code",
      "execution_count": null,
      "metadata": {
        "trusted": true
      },
      "outputs": [],
      "source": "import altair as alt\nfrom vega_datasets import data\n\nairports = data.airports.url\nstates = alt.topo_feature(data.us_10m.url, feature='states')\n\n# US states background\nbackground = alt.Chart(states).mark_geoshape(\n    fill='lightgray',\n    stroke='white'\n).properties(\n    width=500,\n    height=300\n).project('albersUsa')\n\n# airport positions on background\npoints = alt.Chart(airports).transform_aggregate(\n    latitude='mean(latitude)',\n    longitude='mean(longitude)',\n    count='count()',\n    groupby=['state']\n).mark_circle().encode(\n    longitude='longitude:Q',\n    latitude='latitude:Q',\n    size=alt.Size('count:Q', title='Number of Airports'),\n    color=alt.value('steelblue'),\n    tooltip=['state:N','count:Q']\n).properties(\n    title='Number of airports in US'\n)\n\nbackground + points\n"
    },
    {
      "cell_type": "code",
      "execution_count": null,
      "metadata": {},
      "outputs": [],
      "source": ""
    }
  ],
  "metadata": {
    "kernelspec": {
      "display_name": "Pyolite",
      "language": "python",
      "name": "python"
    },
    "language_info": {
      "codemirror_mode": {
        "name": "python",
        "version": 3
      },
      "file_extension": ".py",
      "mimetype": "text/x-python",
      "name": "python",
      "nbconvert_exporter": "python",
      "pygments_lexer": "ipython3",
      "version": "3.8"
    }
  },
  "nbformat": 4,
  "nbformat_minor": 4
}